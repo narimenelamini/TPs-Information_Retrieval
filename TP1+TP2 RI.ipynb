{
 "cells": [
  {
   "cell_type": "markdown",
   "metadata": {},
   "source": [
    "# Exercice 1"
   ]
  },
  {
   "cell_type": "code",
   "execution_count": 1,
   "metadata": {},
   "outputs": [],
   "source": [
    "import nltk\n",
    "ExpReg = nltk.RegexpTokenizer('\\w+')\n",
    "D1 = open(\"D1.txt\", \"r\")\n",
    "D2 = open(\"D2.txt\", \"r\")\n",
    "D3 = open(\"D3.txt\", \"r\")\n",
    "D4 = open(\"D4.txt\", \"r\")\n",
    "Texte1 = D1.read()\n",
    "Texte2 = D2.read()\n",
    "Texte3 = D3.read()\n",
    "Texte4 = D4.read()\n",
    "    \n",
    "Termes1 = ExpReg.tokenize(Texte1)\n",
    "Termes2 = ExpReg.tokenize(Texte2)\n",
    "Termes3 = ExpReg.tokenize(Texte3)\n",
    "Termes4 = ExpReg.tokenize(Texte4)\n",
    "\n",
    "AllTermes = [Termes1,Termes2,Termes3,Termes4]\n"
   ]
  },
  {
   "cell_type": "code",
   "execution_count": 2,
   "metadata": {},
   "outputs": [],
   "source": [
    "#Suppression des mots vides\n",
    "def suppMotsVides(Termes):\n",
    "    MotsVides = nltk.corpus.stopwords.words('english')\n",
    "    TermesSansMotsVides = [terme for terme in Termes if terme.lower() not in MotsVides]\n",
    "    return TermesSansMotsVides\n"
   ]
  },
  {
   "cell_type": "code",
   "execution_count": 4,
   "metadata": {},
   "outputs": [],
   "source": [
    "#Normalisation\n",
    "def normalise(TermesSansMotsVides):\n",
    "    Porter = nltk.PorterStemmer()\n",
    "    TermesNormalisation = [Porter.stem(terme) for terme in TermesSansMotsVides]\n",
    "    return TermesNormalisation"
   ]
  },
  {
   "cell_type": "code",
   "execution_count": 5,
   "metadata": {},
   "outputs": [],
   "source": [
    "#structure (mot:fréquence)\n",
    "def frequence(TermesNormalisation):\n",
    "    TermesFrequence = nltk.FreqDist(TermesNormalisation)\n",
    "    return TermesFrequence"
   ]
  },
  {
   "cell_type": "code",
   "execution_count": 6,
   "metadata": {},
   "outputs": [
    {
     "data": {
      "text/plain": [
       "FreqDist({'algorithm': 7, 'learn': 6, 'order': 4, 'deep': 4, 'self': 4, 'quantum': 3, 'cluster': 3, 'propos': 3, 'approach': 3, 'model': 3, ...})"
      ]
     },
     "execution_count": 6,
     "metadata": {},
     "output_type": "execute_result"
    }
   ],
   "source": [
    "#affichage des fréquences\n",
    "dic_1 = frequence(normalise(suppMotsVides(Termes1)))\n",
    "dic_1"
   ]
  },
  {
   "cell_type": "code",
   "execution_count": 7,
   "metadata": {},
   "outputs": [
    {
     "data": {
      "text/plain": [
       "FreqDist({'algorithm': 6, 'apso': 6, 'qe': 6, 'swarm': 5, 'optim': 5, 'intellig': 4, 'comput': 4, 'propos': 4, 'queri': 4, 'recent': 3, ...})"
      ]
     },
     "execution_count": 7,
     "metadata": {},
     "output_type": "execute_result"
    }
   ],
   "source": [
    "#(terme,document):fréquence\n",
    "dic_2 = frequence(normalise(suppMotsVides(Termes2)))\n",
    "dic_2"
   ]
  },
  {
   "cell_type": "code",
   "execution_count": 8,
   "metadata": {},
   "outputs": [
    {
     "data": {
      "text/plain": [
       "FreqDist({'user': 13, 'semant': 7, 'interest': 4, 'profil': 4, 'search': 4, 'inform': 3, 'retriev': 2, 'need': 2, 'represent': 2, 'improv': 2, ...})"
      ]
     },
     "execution_count": 8,
     "metadata": {},
     "output_type": "execute_result"
    }
   ],
   "source": [
    "dic_3 = frequence(normalise(suppMotsVides(Termes3)))\n",
    "dic_3"
   ]
  },
  {
   "cell_type": "code",
   "execution_count": 9,
   "metadata": {},
   "outputs": [
    {
     "data": {
      "text/plain": [
       "FreqDist({'photometr': 4, 'stereo': 4, 'method': 4, 'shadow': 4, 'problem': 4, 'formul': 4, 'improv': 4, 'threshold': 4, 'propos': 4, 'solut': 4, ...})"
      ]
     },
     "execution_count": 9,
     "metadata": {},
     "output_type": "execute_result"
    }
   ],
   "source": [
    "dic_4 = frequence(normalise(suppMotsVides(Termes4)))\n",
    "dic_4"
   ]
  },
  {
   "cell_type": "code",
   "execution_count": 76,
   "metadata": {},
   "outputs": [
    {
     "data": {
      "text/plain": [
       "{('paper', 1): 1,\n",
       " ('quantum', 1): 3,\n",
       " ('technolog', 1): 1,\n",
       " ('exploit', 1): 1,\n",
       " ('empow', 1): 1,\n",
       " ('optic', 1): 1,\n",
       " ('unsupervis', 1): 1,\n",
       " ('learn', 1): 6,\n",
       " ('algorithm', 1): 7,\n",
       " ('densiti', 1): 1,\n",
       " ('base', 1): 2,\n",
       " ('cluster', 1): 3,\n",
       " ('numer', 1): 1,\n",
       " ('applic', 1): 2,\n",
       " ('real', 1): 1,\n",
       " ('world', 1): 1,\n",
       " ('design', 1): 2,\n",
       " ('call', 1): 1,\n",
       " ('order', 1): 4,\n",
       " ('point', 1): 1,\n",
       " ('identifi', 1): 1,\n",
       " ('structur', 1): 1,\n",
       " ('qoptic', 1): 2,\n",
       " ('demonstr', 1): 1,\n",
       " ('comput', 1): 1,\n",
       " ('complex', 1): 1,\n",
       " ('outperform', 1): 1,\n",
       " ('classic', 1): 1,\n",
       " ('counterpart', 1): 1,\n",
       " ('hand', 1): 1,\n",
       " ('propos', 1): 3,\n",
       " ('deep', 1): 4,\n",
       " ('self', 1): 4,\n",
       " ('approach', 1): 3,\n",
       " ('model', 1): 3,\n",
       " ('improv', 1): 3,\n",
       " ('two', 1): 2,\n",
       " ('swarm', 1): 1,\n",
       " ('intellig', 1): 2,\n",
       " ('name', 1): 2,\n",
       " ('artifici', 1): 1,\n",
       " ('orca', 1): 1,\n",
       " ('aoa', 1): 1,\n",
       " ('eleph', 1): 1,\n",
       " ('herd', 1): 1,\n",
       " ('optim', 1): 1,\n",
       " ('eho', 1): 1,\n",
       " ('effect', 1): 2,\n",
       " ('well', 1): 1,\n",
       " ('known', 1): 1,\n",
       " ('dynam', 1): 1,\n",
       " ('mutat', 1): 3,\n",
       " ('oper', 1): 3,\n",
       " ('cauchi', 1): 1,\n",
       " ('gaussian', 1): 1,\n",
       " ('effici', 1): 2,\n",
       " ('hybrid', 1): 2,\n",
       " ('execut', 1): 1,\n",
       " ('one', 1): 1,\n",
       " ('yield', 1): 1,\n",
       " ('way', 1): 1,\n",
       " ('handl', 1): 1,\n",
       " ('evalu', 1): 2,\n",
       " ('develop', 1): 1,\n",
       " ('manag', 1): 1,\n",
       " ('dispatch', 1): 1,\n",
       " ('emerg', 1): 1,\n",
       " ('vehicl', 1): 1,\n",
       " ('larg', 1): 1,\n",
       " ('geograph', 1): 1,\n",
       " ('region', 1): 1,\n",
       " ('context', 1): 1,\n",
       " ('covid', 1): 2,\n",
       " ('19', 1): 2,\n",
       " ('crisi', 1): 1,\n",
       " ('avoid', 1): 1,\n",
       " ('import', 1): 1,\n",
       " ('loss', 1): 1,\n",
       " ('human', 1): 1,\n",
       " ('live', 1): 1,\n",
       " ('theoret', 1): 1,\n",
       " ('describ', 1): 1,\n",
       " ('issu', 1): 1,\n",
       " ('mathemat', 1): 2,\n",
       " ('extens', 1): 1,\n",
       " ('experi', 1): 1,\n",
       " ('perform', 1): 2,\n",
       " ('valid', 1): 1,\n",
       " ('comparison', 1): 1,\n",
       " ('state', 1): 1,\n",
       " ('art', 1): 1,\n",
       " ('techniqu', 1): 1,\n",
       " ('show', 1): 1,\n",
       " ('signific', 1): 1,\n",
       " ('posit', 1): 1,\n",
       " ('impact', 1): 1,\n",
       " ('machin', 1): 1,\n",
       " ('qml', 1): 1,\n",
       " ('dsl', 1): 1,\n",
       " ('solv', 1): 1,\n",
       " ('em', 1): 1,\n",
       " ('transport', 1): 1,\n",
       " ('swarm', 2): 5,\n",
       " ('intellig', 2): 4,\n",
       " ('algorithm', 2): 6,\n",
       " ('among', 2): 2,\n",
       " ('wide', 2): 1,\n",
       " ('use', 2): 2,\n",
       " ('soft', 2): 1,\n",
       " ('comput', 2): 4,\n",
       " ('techniqu', 2): 2,\n",
       " ('optim', 2): 5,\n",
       " ('one', 2): 2,\n",
       " ('recent', 2): 3,\n",
       " ('begun', 2): 1,\n",
       " ('receiv', 2): 1,\n",
       " ('attent', 2): 1,\n",
       " ('acceler', 2): 1,\n",
       " ('particl', 2): 2,\n",
       " ('apso', 2): 6,\n",
       " ('enhanc', 2): 1,\n",
       " ('version', 2): 1,\n",
       " ('pso', 2): 2,\n",
       " ('global', 2): 1,\n",
       " ('capabl', 2): 1,\n",
       " ('suffici', 2): 1,\n",
       " ('simplic', 2): 1,\n",
       " ('high', 2): 1,\n",
       " ('flexibl', 2): 1,\n",
       " ('paper', 2): 1,\n",
       " ('propos', 2): 4,\n",
       " ('applic', 2): 1,\n",
       " ('effici', 2): 1,\n",
       " ('solv', 2): 1,\n",
       " ('problem', 2): 3,\n",
       " ('queri', 2): 4,\n",
       " ('expans', 2): 1,\n",
       " ('qe', 2): 6,\n",
       " ('web', 2): 2,\n",
       " ('inform', 2): 1,\n",
       " ('retriev', 2): 2,\n",
       " ('ir', 2): 1,\n",
       " ('unlik', 2): 1,\n",
       " ('prior', 2): 1,\n",
       " ('studi', 2): 1,\n",
       " ('introduc', 2): 1,\n",
       " ('new', 2): 1,\n",
       " ('model', 2): 1,\n",
       " ('aim', 2): 1,\n",
       " ('find', 2): 1,\n",
       " ('suitabl', 2): 1,\n",
       " ('expand', 2): 3,\n",
       " ('set', 2): 1,\n",
       " ('candid', 2): 2,\n",
       " ('nevertheless', 2): 1,\n",
       " ('due', 2): 1,\n",
       " ('larg', 2): 1,\n",
       " ('number', 2): 1,\n",
       " ('potenti', 2): 1,\n",
       " ('extrem', 2): 1,\n",
       " ('complex', 2): 2,\n",
       " ('produc', 2): 1,\n",
       " ('best', 2): 1,\n",
       " ('convent', 2): 1,\n",
       " ('hard', 2): 1,\n",
       " ('method', 2): 3,\n",
       " ('therefor', 2): 1,\n",
       " ('consid', 2): 1,\n",
       " ('combinatori', 2): 1,\n",
       " ('address', 2): 1,\n",
       " ('thoroughli', 2): 1,\n",
       " ('evalu', 2): 1,\n",
       " ('medlin', 2): 1,\n",
       " ('world', 2): 1,\n",
       " ('largest', 2): 1,\n",
       " ('medic', 2): 1,\n",
       " ('librari', 2): 1,\n",
       " ('first', 2): 1,\n",
       " ('conduct', 2): 1,\n",
       " ('preliminari', 2): 1,\n",
       " ('experi', 2): 1,\n",
       " ('tune', 2): 1,\n",
       " ('paramet', 2): 1,\n",
       " ('compar', 2): 2,\n",
       " ('result', 2): 2,\n",
       " ('call', 2): 1,\n",
       " ('firefli', 2): 1,\n",
       " ('fa', 2): 1,\n",
       " ('also', 2): 1,\n",
       " ('three', 2): 1,\n",
       " ('publish', 2): 1,\n",
       " ('involv', 2): 1,\n",
       " ('genet', 2): 1,\n",
       " ('ga', 2): 1,\n",
       " ('bat', 2): 1,\n",
       " ('ba', 2): 1,\n",
       " ('experiment', 2): 1,\n",
       " ('analysi', 2): 1,\n",
       " ('demonstr', 2): 1,\n",
       " ('competit', 2): 1,\n",
       " ('yield', 2): 1,\n",
       " ('substanti', 2): 1,\n",
       " ('improv', 2): 1,\n",
       " ('term', 2): 1,\n",
       " ('effect', 2): 1,\n",
       " ('user', 3): 13,\n",
       " ('centr', 3): 1,\n",
       " ('inform', 3): 3,\n",
       " ('retriev', 3): 2,\n",
       " ('need', 3): 2,\n",
       " ('introduc', 3): 1,\n",
       " ('semant', 3): 7,\n",
       " ('model', 3): 1,\n",
       " ('meaning', 3): 1,\n",
       " ('represent', 3): 2,\n",
       " ('interest', 3): 4,\n",
       " ('help', 3): 1,\n",
       " ('improv', 3): 2,\n",
       " ('identif', 3): 1,\n",
       " ('futur', 3): 1,\n",
       " ('cognit', 3): 1,\n",
       " ('paper', 3): 1,\n",
       " ('present', 3): 1,\n",
       " ('base', 3): 2,\n",
       " ('approach', 3): 2,\n",
       " ('personalis', 3): 1,\n",
       " ('design', 3): 1,\n",
       " ('exploit', 3): 1,\n",
       " ('profil', 3): 4,\n",
       " ('repres', 3): 1,\n",
       " ('combin', 3): 1,\n",
       " ('ontolog', 3): 2,\n",
       " ('issu', 3): 2,\n",
       " ('wordnet', 3): 1,\n",
       " ('person', 3): 2,\n",
       " ('differ', 3): 1,\n",
       " ('interact', 3): 1,\n",
       " ('search', 3): 4,\n",
       " ('system', 3): 1,\n",
       " ('social', 3): 1,\n",
       " ('situat', 3): 1,\n",
       " ('previou', 3): 1,\n",
       " ('consid', 3): 1,\n",
       " ('co', 3): 1,\n",
       " ('occurr', 3): 1,\n",
       " ('relat', 3): 1,\n",
       " ('relev', 3): 1,\n",
       " ('compon', 3): 1,\n",
       " ('link', 3): 1,\n",
       " ('use', 3): 1,\n",
       " ('two', 3): 1,\n",
       " ('import', 3): 1,\n",
       " ('phase', 3): 1,\n",
       " ('process', 3): 1,\n",
       " ('expans', 3): 1,\n",
       " ('initi', 3): 1,\n",
       " ('queri', 3): 1,\n",
       " ('ii', 3): 1,\n",
       " ('adapt', 3): 1,\n",
       " ('result', 3): 1,\n",
       " ('photometr', 4): 4,\n",
       " ('stereo', 4): 4,\n",
       " ('method', 4): 4,\n",
       " ('seek', 4): 1,\n",
       " ('reconstruct', 4): 1,\n",
       " ('3d', 4): 1,\n",
       " ('object', 4): 2,\n",
       " ('use', 4): 2,\n",
       " ('multipl', 4): 1,\n",
       " ('imag', 4): 1,\n",
       " ('captur', 4): 1,\n",
       " ('vari', 4): 1,\n",
       " ('illumin', 4): 1,\n",
       " ('direct', 4): 1,\n",
       " ('nevertheless', 4): 1,\n",
       " ('shadow', 4): 4,\n",
       " ('still', 4): 1,\n",
       " ('among', 4): 1,\n",
       " ('signific', 4): 1,\n",
       " ('problem', 4): 4,\n",
       " ('face', 4): 1,\n",
       " ('exist', 4): 2,\n",
       " ('formul', 4): 4,\n",
       " ('disregard', 4): 1,\n",
       " ('although', 4): 1,\n",
       " ('elimin', 4): 2,\n",
       " ('greatli', 4): 1,\n",
       " ('improv', 4): 4,\n",
       " ('result', 4): 1,\n",
       " ('usual', 4): 1,\n",
       " ('author', 4): 1,\n",
       " ('defin', 4): 2,\n",
       " ('empir', 4): 1,\n",
       " ('threshold', 4): 4,\n",
       " ('pixel', 4): 1,\n",
       " ('low', 4): 1,\n",
       " ('bright', 4): 1,\n",
       " ('accordingli', 4): 1,\n",
       " ('paper', 4): 1,\n",
       " ('present', 4): 1,\n",
       " ('approach', 4): 2,\n",
       " ('enhanc', 4): 1,\n",
       " ('aim', 4): 1,\n",
       " ('consist', 4): 2,\n",
       " ('propos', 4): 4,\n",
       " ('solv', 4): 2,\n",
       " ('determin', 4): 1,\n",
       " ('optim', 4): 3,\n",
       " ('solut', 4): 4,\n",
       " ('order', 4): 2,\n",
       " ('valu', 4): 3,\n",
       " ('normal', 4): 2,\n",
       " ('error', 4): 2,\n",
       " ('rate', 4): 2,\n",
       " ('respect', 4): 1,\n",
       " ('make', 4): 1,\n",
       " ('possibl', 4): 1,\n",
       " ('compar', 4): 1,\n",
       " ('differ', 4): 3,\n",
       " ('second', 4): 1,\n",
       " ('contribut', 4): 1,\n",
       " ('find', 4): 2,\n",
       " ('vector', 4): 1,\n",
       " ('adapt', 4): 1,\n",
       " ('local', 4): 1,\n",
       " ('search', 4): 2,\n",
       " ('tabu', 4): 1,\n",
       " ('meta', 4): 1,\n",
       " ('heurist', 4): 1,\n",
       " ('neighborhood', 4): 1,\n",
       " ('initi', 4): 1,\n",
       " ('perform', 4): 1,\n",
       " ('sever', 4): 1,\n",
       " ('test', 4): 1,\n",
       " ('real', 4): 1,\n",
       " ('complex', 4): 1,\n",
       " ('paramet', 4): 1,\n",
       " ('show', 4): 2,\n",
       " ('effect', 4): 1,\n",
       " ('number', 4): 1,\n",
       " ('comparison', 4): 1,\n",
       " ('recent', 4): 1,\n",
       " ('publish', 4): 1,\n",
       " ('made', 4): 1,\n",
       " ('experi', 4): 1,\n",
       " ('outperform', 4): 1,\n",
       " ('modern', 4): 1,\n",
       " ('near', 4): 1,\n",
       " ('field', 4): 1,\n",
       " ('term', 4): 1,\n",
       " ('qualiti', 4): 1,\n",
       " ('applic', 4): 1,\n",
       " ('requir', 4): 1,\n",
       " ('manual', 4): 1,\n",
       " ('intervent', 4): 1}"
      ]
     },
     "execution_count": 76,
     "metadata": {},
     "output_type": "execute_result"
    }
   ],
   "source": [
    "def global_dic(dic1,dic2,dic3,dic4):\n",
    "    dict_all = {}\n",
    "    for key,value in dic1.items():\n",
    "        dict_all[key, 1] = value\n",
    "    for key,value in dic2.items():\n",
    "        dict_all[key, 2] = value\n",
    "    for key,value in dic3.items():\n",
    "        dict_all[key, 3] = value\n",
    "    for key,value in dic4.items():\n",
    "        dict_all[key, 4] = value\n",
    "        \n",
    "    return dict_all\n",
    "\n",
    "dict_all = global_dic(dic_1,dic_2,dic_3,dic_4)\n",
    "dict_all        \n"
   ]
  },
  {
   "cell_type": "markdown",
   "metadata": {},
   "source": [
    "# Exercice 2\n",
    "\n",
    " "
   ]
  },
  {
   "cell_type": "code",
   "execution_count": 91,
   "metadata": {},
   "outputs": [
    {
     "data": {
      "text/plain": [
       "{('swarm', 1): 1, ('swarm', 2): 5}"
      ]
     },
     "execution_count": 91,
     "metadata": {},
     "output_type": "execute_result"
    }
   ],
   "source": [
    "\n",
    "dict_all['design',1]\n",
    "def recup_all(dict_all, terme):\n",
    "    dico = {}\n",
    "    for w, d in dict_all.keys():\n",
    "        if terme == w:\n",
    "            dico[(w,d)] = dict_all[(w,d)]\n",
    "    return dico\n",
    "\n",
    "dico = recup_all(dict_all,'swarm')\n",
    "dico\n"
   ]
  },
  {
   "cell_type": "code",
   "execution_count": 74,
   "metadata": {},
   "outputs": [
    {
     "data": {
      "text/plain": [
       "4"
      ]
     },
     "execution_count": 74,
     "metadata": {},
     "output_type": "execute_result"
    }
   ],
   "source": [
    "# return la freq max dans un document\n",
    "def maxFreq(doc):\n",
    "     if doc == 1:\n",
    "          values = dic_1.values()\n",
    "     if doc == 2:\n",
    "          values = dic_2.values()\n",
    "     if doc == 3:\n",
    "          values = dic_3.values()\n",
    "     if doc == 4:\n",
    "          values = dic_4.values()\n",
    "     return max(values)\n",
    "maxFreq(4)\n"
   ]
  },
  {
   "cell_type": "markdown",
   "metadata": {},
   "source": [
    "# Exercice 3"
   ]
  },
  {
   "cell_type": "code",
   "execution_count": 92,
   "metadata": {},
   "outputs": [
    {
     "name": "stdout",
     "output_type": "stream",
     "text": [
      "Terme: swarm document: 2 frequence : 5 poids: 0.3976010455997187\n"
     ]
    }
   ],
   "source": [
    "\n",
    "import math\n",
    "\n",
    "#terme, doc : freq,poids\n",
    "\n",
    "#poids(ti,dj) =(freq(ti)/max(freq(t,dj)))* log((N/ni) +1)\n",
    "\n",
    "def tfidf(dict_all, doc,term):\n",
    "    \n",
    "     k = 2 \n",
    "     b = 0,5\n",
    "     N = 4 \n",
    "    \n",
    "     \n",
    "     dico = recup_all(dict_all, term)#{('design', 1): 2, ('design', 3): 1}\n",
    "     \n",
    "     n = len(dico) #2\n",
    "     \n",
    "     for w, d in dict_all.keys():\n",
    "          if d == doc:\n",
    "               freq = dico[(term,d)] #freq de \"term\" dans le document \"doc\"\n",
    "          \n",
    "     A = math.log10((N/n) +1) \n",
    "     poids = (freq/maxFreq(doc))*A  \n",
    "     print(\"Terme:\", term,\"document:\", doc, \"frequence :\",freq,\"poids:\", poids)              \n",
    "\n",
    "\n",
    "\n",
    "    \n",
    "\n",
    "\n",
    "\n",
    "dict_all = global_dic(dic_1,dic_2,dic_3,dic_4)\n",
    "dict_all   \n",
    "dict = tfidf(dict_all, 2, \"swarm\")\n"
   ]
  },
  {
   "cell_type": "code",
   "execution_count": 20,
   "metadata": {},
   "outputs": [
    {
     "data": {
      "text/plain": [
       "4"
      ]
     },
     "execution_count": 20,
     "metadata": {},
     "output_type": "execute_result"
    }
   ],
   "source": []
  }
 ],
 "metadata": {
  "kernelspec": {
   "display_name": "Python 3.10.4 64-bit",
   "language": "python",
   "name": "python3"
  },
  "language_info": {
   "codemirror_mode": {
    "name": "ipython",
    "version": 3
   },
   "file_extension": ".py",
   "mimetype": "text/x-python",
   "name": "python",
   "nbconvert_exporter": "python",
   "pygments_lexer": "ipython3",
   "version": "3.10.4"
  },
  "orig_nbformat": 4,
  "vscode": {
   "interpreter": {
    "hash": "26de051ba29f2982a8de78e945f0abaf191376122a1563185a90213a26c5da77"
   }
  }
 },
 "nbformat": 4,
 "nbformat_minor": 2
}
